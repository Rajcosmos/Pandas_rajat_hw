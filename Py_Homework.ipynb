{
 "cells": [
  {
   "cell_type": "code",
   "execution_count": 1,
   "metadata": {
    "collapsed": true
   },
   "outputs": [],
   "source": [
    "import pandas as pd\n",
    "import os"
   ]
  },
  {
   "cell_type": "code",
   "execution_count": 2,
   "metadata": {},
   "outputs": [],
   "source": [
    "#os.listdir()"
   ]
  },
  {
   "cell_type": "code",
   "execution_count": 3,
   "metadata": {
    "collapsed": true
   },
   "outputs": [],
   "source": [
    "# Create a path to csv and read school and Student data\n",
    "csv_path_schools=os.path.join('Py','schools_complete.csv')\n",
    "csv_path_students=os.path.join('Py','students_complete.csv')"
   ]
  },
  {
   "cell_type": "code",
   "execution_count": 4,
   "metadata": {
    "collapsed": true
   },
   "outputs": [],
   "source": [
    "schools_df=pd.read_csv(csv_path_schools)\n",
    "students_df=pd.read_csv(csv_path_students)\n"
   ]
  },
  {
   "cell_type": "code",
   "execution_count": 5,
   "metadata": {},
   "outputs": [],
   "source": [
    "#schools_df"
   ]
  },
  {
   "cell_type": "code",
   "execution_count": 6,
   "metadata": {},
   "outputs": [],
   "source": [
    "#students_df.head()"
   ]
  },
  {
   "cell_type": "code",
   "execution_count": 7,
   "metadata": {
    "collapsed": true
   },
   "outputs": [],
   "source": [
    "# Calculating total Schools and total Students\n",
    "total_schools=schools_df[\"name\"].count()\n",
    "total_students=students_df[\"name\"].count()"
   ]
  },
  {
   "cell_type": "code",
   "execution_count": 8,
   "metadata": {
    "collapsed": true
   },
   "outputs": [],
   "source": [
    "total_budget=schools_df[\"budget\"].sum()"
   ]
  },
  {
   "cell_type": "code",
   "execution_count": 9,
   "metadata": {
    "collapsed": true
   },
   "outputs": [],
   "source": [
    "avg_math_score=students_df[\"math_score\"].mean()"
   ]
  },
  {
   "cell_type": "code",
   "execution_count": 10,
   "metadata": {
    "collapsed": true
   },
   "outputs": [],
   "source": [
    "avg_reading_score=students_df[\"reading_score\"].mean()"
   ]
  },
  {
   "cell_type": "code",
   "execution_count": 11,
   "metadata": {
    "collapsed": true
   },
   "outputs": [],
   "source": [
    "#Assuming passing score of Math and Readings are 70\n",
    "pass_math=students_df[students_df.math_score>70]"
   ]
  },
  {
   "cell_type": "code",
   "execution_count": 12,
   "metadata": {
    "collapsed": true
   },
   "outputs": [],
   "source": [
    "total_pass_math=pass_math[\"math_score\"].count()"
   ]
  },
  {
   "cell_type": "markdown",
   "metadata": {},
   "source": [
    "pass_math"
   ]
  },
  {
   "cell_type": "code",
   "execution_count": 13,
   "metadata": {
    "collapsed": true
   },
   "outputs": [],
   "source": [
    "pass_reading=students_df[students_df.reading_score>70]"
   ]
  },
  {
   "cell_type": "code",
   "execution_count": 14,
   "metadata": {
    "collapsed": true
   },
   "outputs": [],
   "source": [
    "total_pass_reading=pass_reading[\"reading_score\"].count()"
   ]
  },
  {
   "cell_type": "code",
   "execution_count": 15,
   "metadata": {
    "collapsed": true
   },
   "outputs": [],
   "source": [
    "# Calculate % Math and Reading pass \n",
    "math_percent=(total_pass_math/total_students)*100\n",
    "read_percent=(total_pass_reading/total_students)*100"
   ]
  },
  {
   "cell_type": "code",
   "execution_count": 16,
   "metadata": {
    "collapsed": true
   },
   "outputs": [],
   "source": [
    "overall_pass=(math_percent+read_percent)/2"
   ]
  },
  {
   "cell_type": "code",
   "execution_count": 17,
   "metadata": {
    "collapsed": true
   },
   "outputs": [],
   "source": [
    "# Creating a new District Summary table consolidating above calculations\n",
    "District_Summary = pd.DataFrame({\"Total Schools\":[total_schools],\n",
    "                                 \"Total Students\":[total_students],\n",
    "                                 \"Total Budget\":[total_budget],\n",
    "                                \"Average Math Score\":[avg_math_score],\n",
    "                                \"Average Reading Score\":[avg_reading_score],\n",
    "                                \"% Passing Math\":[math_percent],\n",
    "                                \"% Passing Reading\":[read_percent],\n",
    "                                \"% Overall Passing Rate\":[overall_pass]})"
   ]
  },
  {
   "cell_type": "code",
   "execution_count": 18,
   "metadata": {},
   "outputs": [],
   "source": [
    "#District_Summary"
   ]
  },
  {
   "cell_type": "code",
   "execution_count": 19,
   "metadata": {
    "collapsed": true
   },
   "outputs": [],
   "source": [
    "District_Summary = District_Summary[[\"Total Schools\",\n",
    "                                     \"Total Students\",\n",
    "                                     \"Total Budget\",\n",
    "                                     \"Average Math Score\",\n",
    "                                     \"Average Reading Score\",\n",
    "                                     \"% Passing Math\",\n",
    "                                     \"% Passing Reading\",\n",
    "                                     \"% Overall Passing Rate\"]]"
   ]
  },
  {
   "cell_type": "code",
   "execution_count": 20,
   "metadata": {},
   "outputs": [],
   "source": [
    "# Rouding the Score values to 2 digits\n",
    "District_Summary = District_Summary.round(2)\n",
    "#District_Summary"
   ]
  },
  {
   "cell_type": "code",
   "execution_count": 21,
   "metadata": {
    "collapsed": true
   },
   "outputs": [],
   "source": [
    "def dollar(number):\n",
    "    string='$'+ str(number)\n",
    "    return string"
   ]
  },
  {
   "cell_type": "code",
   "execution_count": 22,
   "metadata": {},
   "outputs": [
    {
     "data": {
      "text/html": [
       "<div>\n",
       "<style>\n",
       "    .dataframe thead tr:only-child th {\n",
       "        text-align: right;\n",
       "    }\n",
       "\n",
       "    .dataframe thead th {\n",
       "        text-align: left;\n",
       "    }\n",
       "\n",
       "    .dataframe tbody tr th {\n",
       "        vertical-align: top;\n",
       "    }\n",
       "</style>\n",
       "<table border=\"1\" class=\"dataframe\">\n",
       "  <thead>\n",
       "    <tr style=\"text-align: right;\">\n",
       "      <th></th>\n",
       "      <th>Total Schools</th>\n",
       "      <th>Total Students</th>\n",
       "      <th>Total Budget</th>\n",
       "      <th>Average Math Score</th>\n",
       "      <th>Average Reading Score</th>\n",
       "      <th>% Passing Math</th>\n",
       "      <th>% Passing Reading</th>\n",
       "      <th>% Overall Passing Rate</th>\n",
       "    </tr>\n",
       "  </thead>\n",
       "  <tbody>\n",
       "    <tr>\n",
       "      <th>0</th>\n",
       "      <td>15</td>\n",
       "      <td>39170</td>\n",
       "      <td>$24649428</td>\n",
       "      <td>78.99</td>\n",
       "      <td>81.88</td>\n",
       "      <td>72.39</td>\n",
       "      <td>82.97</td>\n",
       "      <td>77.68</td>\n",
       "    </tr>\n",
       "  </tbody>\n",
       "</table>\n",
       "</div>"
      ],
      "text/plain": [
       "   Total Schools  Total Students Total Budget  Average Math Score  \\\n",
       "0             15           39170    $24649428               78.99   \n",
       "\n",
       "   Average Reading Score  % Passing Math  % Passing Reading  \\\n",
       "0                  81.88           72.39              82.97   \n",
       "\n",
       "   % Overall Passing Rate  \n",
       "0                   77.68  "
      ]
     },
     "execution_count": 22,
     "metadata": {},
     "output_type": "execute_result"
    }
   ],
   "source": [
    "#District_Summary['Total Budget']=District_Summary.apply(lambda x:\"{:,}\".format(x['Total Budget']),axis=1)\n",
    "District_Summary[\"Total Budget\"]=District_Summary[\"Total Budget\"].map(dollar)\n",
    "#df['Value'] = df.apply(lambda x: \"{:,}\".format(x['Value']), axis=1)\n",
    "District_Summary"
   ]
  },
  {
   "cell_type": "code",
   "execution_count": 23,
   "metadata": {
    "collapsed": true
   },
   "outputs": [],
   "source": [
    "# WE will merge the two dataframes to 1 data frame by using \"school\" as common column\n",
    "# rename the \"name\" column to \"school\" column in schools_df\n",
    "renamed_school_df=schools_df.rename(columns={\"name\":\"school\"})"
   ]
  },
  {
   "cell_type": "code",
   "execution_count": 24,
   "metadata": {
    "collapsed": true
   },
   "outputs": [],
   "source": [
    "# merge the two data frames\n",
    "merge_school_table=pd.merge(renamed_school_df,students_df,on=\"school\")"
   ]
  },
  {
   "cell_type": "code",
   "execution_count": 25,
   "metadata": {},
   "outputs": [
    {
     "data": {
      "text/html": [
       "<div>\n",
       "<style>\n",
       "    .dataframe thead tr:only-child th {\n",
       "        text-align: right;\n",
       "    }\n",
       "\n",
       "    .dataframe thead th {\n",
       "        text-align: left;\n",
       "    }\n",
       "\n",
       "    .dataframe tbody tr th {\n",
       "        vertical-align: top;\n",
       "    }\n",
       "</style>\n",
       "<table border=\"1\" class=\"dataframe\">\n",
       "  <thead>\n",
       "    <tr style=\"text-align: right;\">\n",
       "      <th></th>\n",
       "      <th>School ID</th>\n",
       "      <th>school</th>\n",
       "      <th>type</th>\n",
       "      <th>size</th>\n",
       "      <th>budget</th>\n",
       "      <th>Student ID</th>\n",
       "      <th>name</th>\n",
       "      <th>gender</th>\n",
       "      <th>grade</th>\n",
       "      <th>reading_score</th>\n",
       "      <th>math_score</th>\n",
       "    </tr>\n",
       "  </thead>\n",
       "  <tbody>\n",
       "    <tr>\n",
       "      <th>0</th>\n",
       "      <td>0</td>\n",
       "      <td>Huang High School</td>\n",
       "      <td>District</td>\n",
       "      <td>2917</td>\n",
       "      <td>1910635</td>\n",
       "      <td>0</td>\n",
       "      <td>Paul Bradley</td>\n",
       "      <td>M</td>\n",
       "      <td>9th</td>\n",
       "      <td>66</td>\n",
       "      <td>79</td>\n",
       "    </tr>\n",
       "    <tr>\n",
       "      <th>1</th>\n",
       "      <td>0</td>\n",
       "      <td>Huang High School</td>\n",
       "      <td>District</td>\n",
       "      <td>2917</td>\n",
       "      <td>1910635</td>\n",
       "      <td>1</td>\n",
       "      <td>Victor Smith</td>\n",
       "      <td>M</td>\n",
       "      <td>12th</td>\n",
       "      <td>94</td>\n",
       "      <td>61</td>\n",
       "    </tr>\n",
       "    <tr>\n",
       "      <th>2</th>\n",
       "      <td>0</td>\n",
       "      <td>Huang High School</td>\n",
       "      <td>District</td>\n",
       "      <td>2917</td>\n",
       "      <td>1910635</td>\n",
       "      <td>2</td>\n",
       "      <td>Kevin Rodriguez</td>\n",
       "      <td>M</td>\n",
       "      <td>12th</td>\n",
       "      <td>90</td>\n",
       "      <td>60</td>\n",
       "    </tr>\n",
       "    <tr>\n",
       "      <th>3</th>\n",
       "      <td>0</td>\n",
       "      <td>Huang High School</td>\n",
       "      <td>District</td>\n",
       "      <td>2917</td>\n",
       "      <td>1910635</td>\n",
       "      <td>3</td>\n",
       "      <td>Dr. Richard Scott</td>\n",
       "      <td>M</td>\n",
       "      <td>12th</td>\n",
       "      <td>67</td>\n",
       "      <td>58</td>\n",
       "    </tr>\n",
       "    <tr>\n",
       "      <th>4</th>\n",
       "      <td>0</td>\n",
       "      <td>Huang High School</td>\n",
       "      <td>District</td>\n",
       "      <td>2917</td>\n",
       "      <td>1910635</td>\n",
       "      <td>4</td>\n",
       "      <td>Bonnie Ray</td>\n",
       "      <td>F</td>\n",
       "      <td>9th</td>\n",
       "      <td>97</td>\n",
       "      <td>84</td>\n",
       "    </tr>\n",
       "  </tbody>\n",
       "</table>\n",
       "</div>"
      ],
      "text/plain": [
       "   School ID             school      type  size   budget  Student ID  \\\n",
       "0          0  Huang High School  District  2917  1910635           0   \n",
       "1          0  Huang High School  District  2917  1910635           1   \n",
       "2          0  Huang High School  District  2917  1910635           2   \n",
       "3          0  Huang High School  District  2917  1910635           3   \n",
       "4          0  Huang High School  District  2917  1910635           4   \n",
       "\n",
       "                name gender grade  reading_score  math_score  \n",
       "0       Paul Bradley      M   9th             66          79  \n",
       "1       Victor Smith      M  12th             94          61  \n",
       "2    Kevin Rodriguez      M  12th             90          60  \n",
       "3  Dr. Richard Scott      M  12th             67          58  \n",
       "4         Bonnie Ray      F   9th             97          84  "
      ]
     },
     "execution_count": 25,
     "metadata": {},
     "output_type": "execute_result"
    }
   ],
   "source": [
    "# Display the merged table\n",
    "merge_school_table.head()"
   ]
  },
  {
   "cell_type": "code",
   "execution_count": 26,
   "metadata": {
    "collapsed": true
   },
   "outputs": [],
   "source": [
    "## Calculating passing math and percentage pass in math\n",
    "math_pass=merge_school_table.loc[merge_school_table[\"math_score\"]>70]\n",
    "math_pass_groupby=math_pass.groupby('school')\n",
    "total_math_pass=math_pass_groupby[\"math_score\"].count()\n",
    "y=merge_school_table.groupby('school')\n",
    "total_math=y[\"math_score\"].count()\n",
    "percent_math_pass=pd.DataFrame(total_math_pass/total_math*100)\n"
   ]
  },
  {
   "cell_type": "code",
   "execution_count": 27,
   "metadata": {},
   "outputs": [],
   "source": [
    "## Calculating passing reading and percentage pass in reading\n",
    "read_pass=merge_school_table.loc[merge_school_table[\"reading_score\"]>70]\n",
    "read_pass_groupby=read_pass.groupby('school')\n",
    "total_read_pass=read_pass_groupby[\"reading_score\"].count()\n",
    "y=merge_school_table.groupby('school')\n",
    "total_read=y[\"reading_score\"].count()\n",
    "percent_read_pass=pd.DataFrame(total_read_pass/total_read*100)\n",
    "#percent_read_pass"
   ]
  },
  {
   "cell_type": "code",
   "execution_count": 28,
   "metadata": {
    "collapsed": true
   },
   "outputs": [],
   "source": [
    "# Calculate overall passing rate\n",
    "overall_pass_rate=((percent_math_pass[\"math_score\"]/100+percent_read_pass[\"reading_score\"]/100)/2)*100\n",
    "overall=pd.DataFrame({\"Overall_pass_rate\":overall_pass_rate})\n"
   ]
  },
  {
   "cell_type": "code",
   "execution_count": 29,
   "metadata": {
    "collapsed": true
   },
   "outputs": [],
   "source": [
    "#Calculating Per Student Budget\n",
    "schools_df_index=schools_df.set_index('name')\n",
    "Per_student_budget=schools_df_index['budget']/schools_df_index['size']\n",
    "per_stud_budget=pd.DataFrame({\"Per Student Budget\":Per_student_budget})\n"
   ]
  },
  {
   "cell_type": "code",
   "execution_count": 30,
   "metadata": {},
   "outputs": [
    {
     "data": {
      "text/html": [
       "<div>\n",
       "<style>\n",
       "    .dataframe thead tr:only-child th {\n",
       "        text-align: right;\n",
       "    }\n",
       "\n",
       "    .dataframe thead th {\n",
       "        text-align: left;\n",
       "    }\n",
       "\n",
       "    .dataframe tbody tr th {\n",
       "        vertical-align: top;\n",
       "    }\n",
       "</style>\n",
       "<table border=\"1\" class=\"dataframe\">\n",
       "  <thead>\n",
       "    <tr style=\"text-align: right;\">\n",
       "      <th></th>\n",
       "      <th>School Type</th>\n",
       "      <th>Total Students</th>\n",
       "      <th>Total School Budget</th>\n",
       "      <th>Per student budget</th>\n",
       "      <th>Average Math Score</th>\n",
       "      <th>Average Reading Score</th>\n",
       "      <th>% Passing Math</th>\n",
       "      <th>% Passing Reading</th>\n",
       "      <th>% Overall Passing Rate</th>\n",
       "    </tr>\n",
       "  </thead>\n",
       "  <tbody>\n",
       "    <tr>\n",
       "      <th>Bailey High School</th>\n",
       "      <td>District</td>\n",
       "      <td>4976</td>\n",
       "      <td>3124928</td>\n",
       "      <td>628.0</td>\n",
       "      <td>77.048432</td>\n",
       "      <td>81.033963</td>\n",
       "      <td>64.630225</td>\n",
       "      <td>79.300643</td>\n",
       "      <td>71.965434</td>\n",
       "    </tr>\n",
       "    <tr>\n",
       "      <th>Cabrera High School</th>\n",
       "      <td>Charter</td>\n",
       "      <td>1858</td>\n",
       "      <td>1081356</td>\n",
       "      <td>582.0</td>\n",
       "      <td>83.061895</td>\n",
       "      <td>83.975780</td>\n",
       "      <td>89.558665</td>\n",
       "      <td>93.864370</td>\n",
       "      <td>91.711518</td>\n",
       "    </tr>\n",
       "    <tr>\n",
       "      <th>Figueroa High School</th>\n",
       "      <td>District</td>\n",
       "      <td>2949</td>\n",
       "      <td>1884411</td>\n",
       "      <td>639.0</td>\n",
       "      <td>76.711767</td>\n",
       "      <td>81.158020</td>\n",
       "      <td>63.750424</td>\n",
       "      <td>78.433367</td>\n",
       "      <td>71.091896</td>\n",
       "    </tr>\n",
       "    <tr>\n",
       "      <th>Ford High School</th>\n",
       "      <td>District</td>\n",
       "      <td>2739</td>\n",
       "      <td>1763916</td>\n",
       "      <td>644.0</td>\n",
       "      <td>77.102592</td>\n",
       "      <td>80.746258</td>\n",
       "      <td>65.753925</td>\n",
       "      <td>77.510040</td>\n",
       "      <td>71.631982</td>\n",
       "    </tr>\n",
       "    <tr>\n",
       "      <th>Griffin High School</th>\n",
       "      <td>Charter</td>\n",
       "      <td>1468</td>\n",
       "      <td>917500</td>\n",
       "      <td>625.0</td>\n",
       "      <td>83.351499</td>\n",
       "      <td>83.816757</td>\n",
       "      <td>89.713896</td>\n",
       "      <td>93.392371</td>\n",
       "      <td>91.553134</td>\n",
       "    </tr>\n",
       "  </tbody>\n",
       "</table>\n",
       "</div>"
      ],
      "text/plain": [
       "                     School Type  Total Students  Total School Budget  \\\n",
       "Bailey High School      District            4976              3124928   \n",
       "Cabrera High School      Charter            1858              1081356   \n",
       "Figueroa High School    District            2949              1884411   \n",
       "Ford High School        District            2739              1763916   \n",
       "Griffin High School      Charter            1468               917500   \n",
       "\n",
       "                      Per student budget  Average Math Score  \\\n",
       "Bailey High School                 628.0           77.048432   \n",
       "Cabrera High School                582.0           83.061895   \n",
       "Figueroa High School               639.0           76.711767   \n",
       "Ford High School                   644.0           77.102592   \n",
       "Griffin High School                625.0           83.351499   \n",
       "\n",
       "                      Average Reading Score  % Passing Math  \\\n",
       "Bailey High School                81.033963       64.630225   \n",
       "Cabrera High School               83.975780       89.558665   \n",
       "Figueroa High School              81.158020       63.750424   \n",
       "Ford High School                  80.746258       65.753925   \n",
       "Griffin High School               83.816757       89.713896   \n",
       "\n",
       "                      % Passing Reading  % Overall Passing Rate  \n",
       "Bailey High School            79.300643               71.965434  \n",
       "Cabrera High School           93.864370               91.711518  \n",
       "Figueroa High School          78.433367               71.091896  \n",
       "Ford High School              77.510040               71.631982  \n",
       "Griffin High School           93.392371               91.553134  "
      ]
     },
     "execution_count": 30,
     "metadata": {},
     "output_type": "execute_result"
    }
   ],
   "source": [
    "# Setting index\n",
    "school_type = schools_df.set_index('name')['type']\n",
    "budget=schools_df.set_index('name')['budget']\n",
    "group_by_school=merge_school_table.groupby('school')\n",
    "\n",
    "### Creating a summary dataframe\n",
    "School_Summary=pd.DataFrame({\n",
    "                            \"School Type\":school_type,\n",
    "                            \"Total School Budget\":budget,\n",
    "                            \"Total Students\":group_by_school[\"name\"].count(),\n",
    "                             \"Average Math Score\":group_by_school[\"math_score\"].mean(),\n",
    "                             \"Average Reading Score\":group_by_school[\"reading_score\"].mean(),\n",
    "                             \"% Passing Math\":percent_math_pass[\"math_score\"],\n",
    "                            \"% Passing Reading\":percent_read_pass[\"reading_score\"],\n",
    "                           \"% Overall Passing Rate\":overall[\"Overall_pass_rate\"],\n",
    "                            \"Per student budget\":per_stud_budget[\"Per Student Budget\"]\n",
    "                             \n",
    "                            })\n",
    "#School_Summary\n",
    "organized_school_summary_df = School_Summary[[\"School Type\",\"Total Students\", \"Total School Budget\",\"Per student budget\",\"Average Math Score\",\"Average Reading Score\",\"% Passing Math\",\"% Passing Reading\",\"% Overall Passing Rate\"]]\n",
    "organized_school_summary_df.head()"
   ]
  },
  {
   "cell_type": "code",
   "execution_count": 31,
   "metadata": {
    "collapsed": true
   },
   "outputs": [],
   "source": [
    "########### Calculating top and bottom 5 performing schools based on overall passing rate###########################"
   ]
  },
  {
   "cell_type": "code",
   "execution_count": 32,
   "metadata": {
    "collapsed": true
   },
   "outputs": [],
   "source": [
    "## like to preserve the previous df by assigning to new df\n",
    "top_school_df=organized_school_summary_df"
   ]
  },
  {
   "cell_type": "code",
   "execution_count": 33,
   "metadata": {},
   "outputs": [],
   "source": [
    "#top_school_df.head()"
   ]
  },
  {
   "cell_type": "code",
   "execution_count": 34,
   "metadata": {
    "collapsed": true
   },
   "outputs": [],
   "source": [
    "## Sort df.sort_values(by='col1', ascending=False)\n",
    "result_top5=top_school_df.sort_values(by='% Overall Passing Rate', ascending=False).head(5)"
   ]
  },
  {
   "cell_type": "code",
   "execution_count": 35,
   "metadata": {},
   "outputs": [
    {
     "data": {
      "text/html": [
       "<div>\n",
       "<style>\n",
       "    .dataframe thead tr:only-child th {\n",
       "        text-align: right;\n",
       "    }\n",
       "\n",
       "    .dataframe thead th {\n",
       "        text-align: left;\n",
       "    }\n",
       "\n",
       "    .dataframe tbody tr th {\n",
       "        vertical-align: top;\n",
       "    }\n",
       "</style>\n",
       "<table border=\"1\" class=\"dataframe\">\n",
       "  <thead>\n",
       "    <tr style=\"text-align: right;\">\n",
       "      <th></th>\n",
       "      <th>School Type</th>\n",
       "      <th>Total Students</th>\n",
       "      <th>Total School Budget</th>\n",
       "      <th>Per student budget</th>\n",
       "      <th>Average Math Score</th>\n",
       "      <th>Average Reading Score</th>\n",
       "      <th>% Passing Math</th>\n",
       "      <th>% Passing Reading</th>\n",
       "      <th>% Overall Passing Rate</th>\n",
       "    </tr>\n",
       "  </thead>\n",
       "  <tbody>\n",
       "    <tr>\n",
       "      <th>Wilson High School</th>\n",
       "      <td>Charter</td>\n",
       "      <td>2283</td>\n",
       "      <td>1319574</td>\n",
       "      <td>578.0</td>\n",
       "      <td>83.274201</td>\n",
       "      <td>83.989488</td>\n",
       "      <td>90.932983</td>\n",
       "      <td>93.254490</td>\n",
       "      <td>92.093736</td>\n",
       "    </tr>\n",
       "    <tr>\n",
       "      <th>Pena High School</th>\n",
       "      <td>Charter</td>\n",
       "      <td>962</td>\n",
       "      <td>585858</td>\n",
       "      <td>609.0</td>\n",
       "      <td>83.839917</td>\n",
       "      <td>84.044699</td>\n",
       "      <td>91.683992</td>\n",
       "      <td>92.203742</td>\n",
       "      <td>91.943867</td>\n",
       "    </tr>\n",
       "    <tr>\n",
       "      <th>Wright High School</th>\n",
       "      <td>Charter</td>\n",
       "      <td>1800</td>\n",
       "      <td>1049400</td>\n",
       "      <td>583.0</td>\n",
       "      <td>83.682222</td>\n",
       "      <td>83.955000</td>\n",
       "      <td>90.277778</td>\n",
       "      <td>93.444444</td>\n",
       "      <td>91.861111</td>\n",
       "    </tr>\n",
       "    <tr>\n",
       "      <th>Cabrera High School</th>\n",
       "      <td>Charter</td>\n",
       "      <td>1858</td>\n",
       "      <td>1081356</td>\n",
       "      <td>582.0</td>\n",
       "      <td>83.061895</td>\n",
       "      <td>83.975780</td>\n",
       "      <td>89.558665</td>\n",
       "      <td>93.864370</td>\n",
       "      <td>91.711518</td>\n",
       "    </tr>\n",
       "    <tr>\n",
       "      <th>Holden High School</th>\n",
       "      <td>Charter</td>\n",
       "      <td>427</td>\n",
       "      <td>248087</td>\n",
       "      <td>581.0</td>\n",
       "      <td>83.803279</td>\n",
       "      <td>83.814988</td>\n",
       "      <td>90.632319</td>\n",
       "      <td>92.740047</td>\n",
       "      <td>91.686183</td>\n",
       "    </tr>\n",
       "  </tbody>\n",
       "</table>\n",
       "</div>"
      ],
      "text/plain": [
       "                    School Type  Total Students  Total School Budget  \\\n",
       "Wilson High School      Charter            2283              1319574   \n",
       "Pena High School        Charter             962               585858   \n",
       "Wright High School      Charter            1800              1049400   \n",
       "Cabrera High School     Charter            1858              1081356   \n",
       "Holden High School      Charter             427               248087   \n",
       "\n",
       "                     Per student budget  Average Math Score  \\\n",
       "Wilson High School                578.0           83.274201   \n",
       "Pena High School                  609.0           83.839917   \n",
       "Wright High School                583.0           83.682222   \n",
       "Cabrera High School               582.0           83.061895   \n",
       "Holden High School                581.0           83.803279   \n",
       "\n",
       "                     Average Reading Score  % Passing Math  % Passing Reading  \\\n",
       "Wilson High School               83.989488       90.932983          93.254490   \n",
       "Pena High School                 84.044699       91.683992          92.203742   \n",
       "Wright High School               83.955000       90.277778          93.444444   \n",
       "Cabrera High School              83.975780       89.558665          93.864370   \n",
       "Holden High School               83.814988       90.632319          92.740047   \n",
       "\n",
       "                     % Overall Passing Rate  \n",
       "Wilson High School                92.093736  \n",
       "Pena High School                  91.943867  \n",
       "Wright High School                91.861111  \n",
       "Cabrera High School               91.711518  \n",
       "Holden High School                91.686183  "
      ]
     },
     "execution_count": 35,
     "metadata": {},
     "output_type": "execute_result"
    }
   ],
   "source": [
    "result_top5"
   ]
  },
  {
   "cell_type": "code",
   "execution_count": 36,
   "metadata": {
    "collapsed": true
   },
   "outputs": [],
   "source": [
    "# Sort bottom 5\n",
    "bottom_school_df=organized_school_summary_df\n",
    "result_bottom5=(bottom_school_df.sort_values(by='% Overall Passing Rate', ascending=True).head(5))"
   ]
  },
  {
   "cell_type": "code",
   "execution_count": 37,
   "metadata": {},
   "outputs": [
    {
     "data": {
      "text/html": [
       "<div>\n",
       "<style>\n",
       "    .dataframe thead tr:only-child th {\n",
       "        text-align: right;\n",
       "    }\n",
       "\n",
       "    .dataframe thead th {\n",
       "        text-align: left;\n",
       "    }\n",
       "\n",
       "    .dataframe tbody tr th {\n",
       "        vertical-align: top;\n",
       "    }\n",
       "</style>\n",
       "<table border=\"1\" class=\"dataframe\">\n",
       "  <thead>\n",
       "    <tr style=\"text-align: right;\">\n",
       "      <th></th>\n",
       "      <th>School Type</th>\n",
       "      <th>Total Students</th>\n",
       "      <th>Total School Budget</th>\n",
       "      <th>Per student budget</th>\n",
       "      <th>Average Math Score</th>\n",
       "      <th>Average Reading Score</th>\n",
       "      <th>% Passing Math</th>\n",
       "      <th>% Passing Reading</th>\n",
       "      <th>% Overall Passing Rate</th>\n",
       "    </tr>\n",
       "  </thead>\n",
       "  <tbody>\n",
       "    <tr>\n",
       "      <th>Rodriguez High School</th>\n",
       "      <td>District</td>\n",
       "      <td>3999</td>\n",
       "      <td>2547363</td>\n",
       "      <td>637.0</td>\n",
       "      <td>76.842711</td>\n",
       "      <td>80.744686</td>\n",
       "      <td>64.066017</td>\n",
       "      <td>77.744436</td>\n",
       "      <td>70.905226</td>\n",
       "    </tr>\n",
       "    <tr>\n",
       "      <th>Huang High School</th>\n",
       "      <td>District</td>\n",
       "      <td>2917</td>\n",
       "      <td>1910635</td>\n",
       "      <td>655.0</td>\n",
       "      <td>76.629414</td>\n",
       "      <td>81.182722</td>\n",
       "      <td>63.318478</td>\n",
       "      <td>78.813850</td>\n",
       "      <td>71.066164</td>\n",
       "    </tr>\n",
       "    <tr>\n",
       "      <th>Johnson High School</th>\n",
       "      <td>District</td>\n",
       "      <td>4761</td>\n",
       "      <td>3094650</td>\n",
       "      <td>650.0</td>\n",
       "      <td>77.072464</td>\n",
       "      <td>80.966394</td>\n",
       "      <td>63.852132</td>\n",
       "      <td>78.281874</td>\n",
       "      <td>71.067003</td>\n",
       "    </tr>\n",
       "    <tr>\n",
       "      <th>Figueroa High School</th>\n",
       "      <td>District</td>\n",
       "      <td>2949</td>\n",
       "      <td>1884411</td>\n",
       "      <td>639.0</td>\n",
       "      <td>76.711767</td>\n",
       "      <td>81.158020</td>\n",
       "      <td>63.750424</td>\n",
       "      <td>78.433367</td>\n",
       "      <td>71.091896</td>\n",
       "    </tr>\n",
       "    <tr>\n",
       "      <th>Hernandez High School</th>\n",
       "      <td>District</td>\n",
       "      <td>4635</td>\n",
       "      <td>3022020</td>\n",
       "      <td>652.0</td>\n",
       "      <td>77.289752</td>\n",
       "      <td>80.934412</td>\n",
       "      <td>64.746494</td>\n",
       "      <td>78.187702</td>\n",
       "      <td>71.467098</td>\n",
       "    </tr>\n",
       "  </tbody>\n",
       "</table>\n",
       "</div>"
      ],
      "text/plain": [
       "                      School Type  Total Students  Total School Budget  \\\n",
       "Rodriguez High School    District            3999              2547363   \n",
       "Huang High School        District            2917              1910635   \n",
       "Johnson High School      District            4761              3094650   \n",
       "Figueroa High School     District            2949              1884411   \n",
       "Hernandez High School    District            4635              3022020   \n",
       "\n",
       "                       Per student budget  Average Math Score  \\\n",
       "Rodriguez High School               637.0           76.842711   \n",
       "Huang High School                   655.0           76.629414   \n",
       "Johnson High School                 650.0           77.072464   \n",
       "Figueroa High School                639.0           76.711767   \n",
       "Hernandez High School               652.0           77.289752   \n",
       "\n",
       "                       Average Reading Score  % Passing Math  \\\n",
       "Rodriguez High School              80.744686       64.066017   \n",
       "Huang High School                  81.182722       63.318478   \n",
       "Johnson High School                80.966394       63.852132   \n",
       "Figueroa High School               81.158020       63.750424   \n",
       "Hernandez High School              80.934412       64.746494   \n",
       "\n",
       "                       % Passing Reading  % Overall Passing Rate  \n",
       "Rodriguez High School          77.744436               70.905226  \n",
       "Huang High School              78.813850               71.066164  \n",
       "Johnson High School            78.281874               71.067003  \n",
       "Figueroa High School           78.433367               71.091896  \n",
       "Hernandez High School          78.187702               71.467098  "
      ]
     },
     "execution_count": 37,
     "metadata": {},
     "output_type": "execute_result"
    }
   ],
   "source": [
    "result_bottom5"
   ]
  },
  {
   "cell_type": "code",
   "execution_count": 38,
   "metadata": {
    "collapsed": true
   },
   "outputs": [],
   "source": [
    "############################# Reading Math Scores by grade level################\n",
    "import numpy as np"
   ]
  },
  {
   "cell_type": "code",
   "execution_count": 39,
   "metadata": {},
   "outputs": [
    {
     "data": {
      "text/html": [
       "<div>\n",
       "<style>\n",
       "    .dataframe thead tr:only-child th {\n",
       "        text-align: right;\n",
       "    }\n",
       "\n",
       "    .dataframe thead th {\n",
       "        text-align: left;\n",
       "    }\n",
       "\n",
       "    .dataframe tbody tr th {\n",
       "        vertical-align: top;\n",
       "    }\n",
       "</style>\n",
       "<table border=\"1\" class=\"dataframe\">\n",
       "  <thead>\n",
       "    <tr style=\"text-align: right;\">\n",
       "      <th>grade</th>\n",
       "      <th>9th</th>\n",
       "      <th>10th</th>\n",
       "      <th>11th</th>\n",
       "      <th>12th</th>\n",
       "    </tr>\n",
       "    <tr>\n",
       "      <th>school</th>\n",
       "      <th></th>\n",
       "      <th></th>\n",
       "      <th></th>\n",
       "      <th></th>\n",
       "    </tr>\n",
       "  </thead>\n",
       "  <tbody>\n",
       "    <tr>\n",
       "      <th>Bailey High School</th>\n",
       "      <td>77.08</td>\n",
       "      <td>77.00</td>\n",
       "      <td>77.52</td>\n",
       "      <td>76.49</td>\n",
       "    </tr>\n",
       "    <tr>\n",
       "      <th>Cabrera High School</th>\n",
       "      <td>83.09</td>\n",
       "      <td>83.15</td>\n",
       "      <td>82.77</td>\n",
       "      <td>83.28</td>\n",
       "    </tr>\n",
       "    <tr>\n",
       "      <th>Figueroa High School</th>\n",
       "      <td>76.40</td>\n",
       "      <td>76.54</td>\n",
       "      <td>76.88</td>\n",
       "      <td>77.15</td>\n",
       "    </tr>\n",
       "    <tr>\n",
       "      <th>Ford High School</th>\n",
       "      <td>77.36</td>\n",
       "      <td>77.67</td>\n",
       "      <td>76.92</td>\n",
       "      <td>76.18</td>\n",
       "    </tr>\n",
       "    <tr>\n",
       "      <th>Griffin High School</th>\n",
       "      <td>82.04</td>\n",
       "      <td>84.23</td>\n",
       "      <td>83.84</td>\n",
       "      <td>83.36</td>\n",
       "    </tr>\n",
       "    <tr>\n",
       "      <th>Hernandez High School</th>\n",
       "      <td>77.44</td>\n",
       "      <td>77.34</td>\n",
       "      <td>77.14</td>\n",
       "      <td>77.19</td>\n",
       "    </tr>\n",
       "    <tr>\n",
       "      <th>Holden High School</th>\n",
       "      <td>83.79</td>\n",
       "      <td>83.43</td>\n",
       "      <td>85.00</td>\n",
       "      <td>82.86</td>\n",
       "    </tr>\n",
       "    <tr>\n",
       "      <th>Huang High School</th>\n",
       "      <td>77.03</td>\n",
       "      <td>75.91</td>\n",
       "      <td>76.45</td>\n",
       "      <td>77.23</td>\n",
       "    </tr>\n",
       "    <tr>\n",
       "      <th>Johnson High School</th>\n",
       "      <td>77.19</td>\n",
       "      <td>76.69</td>\n",
       "      <td>77.49</td>\n",
       "      <td>76.86</td>\n",
       "    </tr>\n",
       "    <tr>\n",
       "      <th>Pena High School</th>\n",
       "      <td>83.63</td>\n",
       "      <td>83.37</td>\n",
       "      <td>84.33</td>\n",
       "      <td>84.12</td>\n",
       "    </tr>\n",
       "    <tr>\n",
       "      <th>Rodriguez High School</th>\n",
       "      <td>76.86</td>\n",
       "      <td>76.61</td>\n",
       "      <td>76.40</td>\n",
       "      <td>77.69</td>\n",
       "    </tr>\n",
       "    <tr>\n",
       "      <th>Shelton High School</th>\n",
       "      <td>83.42</td>\n",
       "      <td>82.92</td>\n",
       "      <td>83.38</td>\n",
       "      <td>83.78</td>\n",
       "    </tr>\n",
       "    <tr>\n",
       "      <th>Thomas High School</th>\n",
       "      <td>83.59</td>\n",
       "      <td>83.09</td>\n",
       "      <td>83.50</td>\n",
       "      <td>83.50</td>\n",
       "    </tr>\n",
       "    <tr>\n",
       "      <th>Wilson High School</th>\n",
       "      <td>83.09</td>\n",
       "      <td>83.72</td>\n",
       "      <td>83.20</td>\n",
       "      <td>83.04</td>\n",
       "    </tr>\n",
       "    <tr>\n",
       "      <th>Wright High School</th>\n",
       "      <td>83.26</td>\n",
       "      <td>84.01</td>\n",
       "      <td>83.84</td>\n",
       "      <td>83.64</td>\n",
       "    </tr>\n",
       "  </tbody>\n",
       "</table>\n",
       "</div>"
      ],
      "text/plain": [
       "grade                    9th   10th   11th   12th\n",
       "school                                           \n",
       "Bailey High School     77.08  77.00  77.52  76.49\n",
       "Cabrera High School    83.09  83.15  82.77  83.28\n",
       "Figueroa High School   76.40  76.54  76.88  77.15\n",
       "Ford High School       77.36  77.67  76.92  76.18\n",
       "Griffin High School    82.04  84.23  83.84  83.36\n",
       "Hernandez High School  77.44  77.34  77.14  77.19\n",
       "Holden High School     83.79  83.43  85.00  82.86\n",
       "Huang High School      77.03  75.91  76.45  77.23\n",
       "Johnson High School    77.19  76.69  77.49  76.86\n",
       "Pena High School       83.63  83.37  84.33  84.12\n",
       "Rodriguez High School  76.86  76.61  76.40  77.69\n",
       "Shelton High School    83.42  82.92  83.38  83.78\n",
       "Thomas High School     83.59  83.09  83.50  83.50\n",
       "Wilson High School     83.09  83.72  83.20  83.04\n",
       "Wright High School     83.26  84.01  83.84  83.64"
      ]
     },
     "execution_count": 39,
     "metadata": {},
     "output_type": "execute_result"
    }
   ],
   "source": [
    "math_score_by_grade=students_df.pivot_table(index='school',columns='grade',values='math_score',aggfunc=np.mean)\n",
    "column_order=['9th','10th','11th','12th']\n",
    "math_score_by_grade=math_score_by_grade.reindex_axis(column_order,axis=1)\n",
    "math_score_by_grade=math_score_by_grade.round({'9th':2,'10th':2,'11th':2,'12th':2})\n",
    "math_score_by_grade"
   ]
  },
  {
   "cell_type": "code",
   "execution_count": 40,
   "metadata": {
    "collapsed": true
   },
   "outputs": [],
   "source": [
    "#################################### Reading Scores by grade level################"
   ]
  },
  {
   "cell_type": "code",
   "execution_count": 41,
   "metadata": {},
   "outputs": [
    {
     "data": {
      "text/html": [
       "<div>\n",
       "<style>\n",
       "    .dataframe thead tr:only-child th {\n",
       "        text-align: right;\n",
       "    }\n",
       "\n",
       "    .dataframe thead th {\n",
       "        text-align: left;\n",
       "    }\n",
       "\n",
       "    .dataframe tbody tr th {\n",
       "        vertical-align: top;\n",
       "    }\n",
       "</style>\n",
       "<table border=\"1\" class=\"dataframe\">\n",
       "  <thead>\n",
       "    <tr style=\"text-align: right;\">\n",
       "      <th>grade</th>\n",
       "      <th>9th</th>\n",
       "      <th>10th</th>\n",
       "      <th>11th</th>\n",
       "      <th>12th</th>\n",
       "    </tr>\n",
       "    <tr>\n",
       "      <th>school</th>\n",
       "      <th></th>\n",
       "      <th></th>\n",
       "      <th></th>\n",
       "      <th></th>\n",
       "    </tr>\n",
       "  </thead>\n",
       "  <tbody>\n",
       "    <tr>\n",
       "      <th>Bailey High School</th>\n",
       "      <td>81.30</td>\n",
       "      <td>80.91</td>\n",
       "      <td>80.95</td>\n",
       "      <td>80.91</td>\n",
       "    </tr>\n",
       "    <tr>\n",
       "      <th>Cabrera High School</th>\n",
       "      <td>83.68</td>\n",
       "      <td>84.25</td>\n",
       "      <td>83.79</td>\n",
       "      <td>84.29</td>\n",
       "    </tr>\n",
       "    <tr>\n",
       "      <th>Figueroa High School</th>\n",
       "      <td>81.20</td>\n",
       "      <td>81.41</td>\n",
       "      <td>80.64</td>\n",
       "      <td>81.38</td>\n",
       "    </tr>\n",
       "    <tr>\n",
       "      <th>Ford High School</th>\n",
       "      <td>80.63</td>\n",
       "      <td>81.26</td>\n",
       "      <td>80.40</td>\n",
       "      <td>80.66</td>\n",
       "    </tr>\n",
       "    <tr>\n",
       "      <th>Griffin High School</th>\n",
       "      <td>83.37</td>\n",
       "      <td>83.71</td>\n",
       "      <td>84.29</td>\n",
       "      <td>84.01</td>\n",
       "    </tr>\n",
       "    <tr>\n",
       "      <th>Hernandez High School</th>\n",
       "      <td>80.87</td>\n",
       "      <td>80.66</td>\n",
       "      <td>81.40</td>\n",
       "      <td>80.86</td>\n",
       "    </tr>\n",
       "    <tr>\n",
       "      <th>Holden High School</th>\n",
       "      <td>83.68</td>\n",
       "      <td>83.32</td>\n",
       "      <td>83.82</td>\n",
       "      <td>84.70</td>\n",
       "    </tr>\n",
       "    <tr>\n",
       "      <th>Huang High School</th>\n",
       "      <td>81.29</td>\n",
       "      <td>81.51</td>\n",
       "      <td>81.42</td>\n",
       "      <td>80.31</td>\n",
       "    </tr>\n",
       "    <tr>\n",
       "      <th>Johnson High School</th>\n",
       "      <td>81.26</td>\n",
       "      <td>80.77</td>\n",
       "      <td>80.62</td>\n",
       "      <td>81.23</td>\n",
       "    </tr>\n",
       "    <tr>\n",
       "      <th>Pena High School</th>\n",
       "      <td>83.81</td>\n",
       "      <td>83.61</td>\n",
       "      <td>84.34</td>\n",
       "      <td>84.59</td>\n",
       "    </tr>\n",
       "    <tr>\n",
       "      <th>Rodriguez High School</th>\n",
       "      <td>80.99</td>\n",
       "      <td>80.63</td>\n",
       "      <td>80.86</td>\n",
       "      <td>80.38</td>\n",
       "    </tr>\n",
       "    <tr>\n",
       "      <th>Shelton High School</th>\n",
       "      <td>84.12</td>\n",
       "      <td>83.44</td>\n",
       "      <td>84.37</td>\n",
       "      <td>82.78</td>\n",
       "    </tr>\n",
       "    <tr>\n",
       "      <th>Thomas High School</th>\n",
       "      <td>83.73</td>\n",
       "      <td>84.25</td>\n",
       "      <td>83.59</td>\n",
       "      <td>83.83</td>\n",
       "    </tr>\n",
       "    <tr>\n",
       "      <th>Wilson High School</th>\n",
       "      <td>83.94</td>\n",
       "      <td>84.02</td>\n",
       "      <td>83.76</td>\n",
       "      <td>84.32</td>\n",
       "    </tr>\n",
       "    <tr>\n",
       "      <th>Wright High School</th>\n",
       "      <td>83.83</td>\n",
       "      <td>83.81</td>\n",
       "      <td>84.16</td>\n",
       "      <td>84.07</td>\n",
       "    </tr>\n",
       "  </tbody>\n",
       "</table>\n",
       "</div>"
      ],
      "text/plain": [
       "grade                    9th   10th   11th   12th\n",
       "school                                           \n",
       "Bailey High School     81.30  80.91  80.95  80.91\n",
       "Cabrera High School    83.68  84.25  83.79  84.29\n",
       "Figueroa High School   81.20  81.41  80.64  81.38\n",
       "Ford High School       80.63  81.26  80.40  80.66\n",
       "Griffin High School    83.37  83.71  84.29  84.01\n",
       "Hernandez High School  80.87  80.66  81.40  80.86\n",
       "Holden High School     83.68  83.32  83.82  84.70\n",
       "Huang High School      81.29  81.51  81.42  80.31\n",
       "Johnson High School    81.26  80.77  80.62  81.23\n",
       "Pena High School       83.81  83.61  84.34  84.59\n",
       "Rodriguez High School  80.99  80.63  80.86  80.38\n",
       "Shelton High School    84.12  83.44  84.37  82.78\n",
       "Thomas High School     83.73  84.25  83.59  83.83\n",
       "Wilson High School     83.94  84.02  83.76  84.32\n",
       "Wright High School     83.83  83.81  84.16  84.07"
      ]
     },
     "execution_count": 41,
     "metadata": {},
     "output_type": "execute_result"
    }
   ],
   "source": [
    "reading_score_by_grade=students_df.pivot_table(index='school',columns='grade',values='reading_score',aggfunc=np.mean)\n",
    "column_order=['9th','10th','11th','12th']\n",
    "reading_score_by_grade=reading_score_by_grade.reindex_axis(column_order,axis=1)\n",
    "reading_score_by_grade=reading_score_by_grade.round({'9th':2,'10th':2,'11th':2,'12th':2})\n",
    "reading_score_by_grade"
   ]
  },
  {
   "cell_type": "code",
   "execution_count": 42,
   "metadata": {},
   "outputs": [],
   "source": [
    "############################## Scores by School Spending using bins ############################\n",
    "x=organized_school_summary_df\n",
    "#x.head()"
   ]
  },
  {
   "cell_type": "code",
   "execution_count": 43,
   "metadata": {},
   "outputs": [],
   "source": [
    "import pandas as pd\n",
    "def round2(number):\n",
    "    # Rounds the number\n",
    "    rounded_number = round(number, 2)\n",
    "    # Creates a string\n",
    "    string = str(rounded_number)\n",
    "    # Returns the string\n",
    "    return string\n",
    "\n",
    "x[\"Average Math Score\"]=x[\"Average Math Score\"].map(round2)\n",
    "x[\"Average Reading Score\"]=x[\"Average Reading Score\"].map(round2)\n",
    "x[\"% Passing Math\"]=x[\"% Passing Math\"].map(round2)\n",
    "x[\"% Passing Reading\"]=x[\"% Passing Reading\"].map(round2)\n",
    "x[\"% Overall Passing Rate\"]=x[\"% Overall Passing Rate\"].map(round2)\n",
    "#x.columns"
   ]
  },
  {
   "cell_type": "code",
   "execution_count": 44,
   "metadata": {},
   "outputs": [],
   "source": [
    "#x.head()"
   ]
  },
  {
   "cell_type": "code",
   "execution_count": 45,
   "metadata": {
    "collapsed": true
   },
   "outputs": [],
   "source": [
    "#Create 4 bins\n",
    "bins=[0,585,615,645,675]\n",
    "#Create names for the 4 bins\n",
    "group_names=['< $585','$585-615','$615-645','$645-675']"
   ]
  },
  {
   "cell_type": "code",
   "execution_count": 46,
   "metadata": {},
   "outputs": [],
   "source": [
    "# Cut the x and place the scores into bins\n",
    "x[\"Per student budget\"] = pd.cut(x[\"Per student budget\"],bins, labels=group_names)\n"
   ]
  },
  {
   "cell_type": "code",
   "execution_count": 47,
   "metadata": {},
   "outputs": [
    {
     "data": {
      "text/html": [
       "<div>\n",
       "<style>\n",
       "    .dataframe thead tr:only-child th {\n",
       "        text-align: right;\n",
       "    }\n",
       "\n",
       "    .dataframe thead th {\n",
       "        text-align: left;\n",
       "    }\n",
       "\n",
       "    .dataframe tbody tr th {\n",
       "        vertical-align: top;\n",
       "    }\n",
       "</style>\n",
       "<table border=\"1\" class=\"dataframe\">\n",
       "  <thead>\n",
       "    <tr style=\"text-align: right;\">\n",
       "      <th></th>\n",
       "      <th>Average Math Score</th>\n",
       "      <th>Average Reading Score</th>\n",
       "      <th>% Passing Math</th>\n",
       "      <th>% Passing Reading</th>\n",
       "      <th>% Overall Passing Rate</th>\n",
       "    </tr>\n",
       "    <tr>\n",
       "      <th>Per student budget</th>\n",
       "      <th></th>\n",
       "      <th></th>\n",
       "      <th></th>\n",
       "      <th></th>\n",
       "      <th></th>\n",
       "    </tr>\n",
       "  </thead>\n",
       "  <tbody>\n",
       "    <tr>\n",
       "      <th>&lt; $585</th>\n",
       "      <td>83.8</td>\n",
       "      <td>83.99</td>\n",
       "      <td>90.93</td>\n",
       "      <td>93.86</td>\n",
       "      <td>92.09</td>\n",
       "    </tr>\n",
       "    <tr>\n",
       "      <th>$585-615</th>\n",
       "      <td>83.84</td>\n",
       "      <td>84.04</td>\n",
       "      <td>91.68</td>\n",
       "      <td>92.62</td>\n",
       "      <td>91.94</td>\n",
       "    </tr>\n",
       "    <tr>\n",
       "      <th>$615-645</th>\n",
       "      <td>83.42</td>\n",
       "      <td>83.85</td>\n",
       "      <td>90.21</td>\n",
       "      <td>93.39</td>\n",
       "      <td>91.56</td>\n",
       "    </tr>\n",
       "    <tr>\n",
       "      <th>$645-675</th>\n",
       "      <td>77.29</td>\n",
       "      <td>81.18</td>\n",
       "      <td>64.75</td>\n",
       "      <td>78.81</td>\n",
       "      <td>71.47</td>\n",
       "    </tr>\n",
       "  </tbody>\n",
       "</table>\n",
       "</div>"
      ],
      "text/plain": [
       "                   Average Math Score Average Reading Score % Passing Math  \\\n",
       "Per student budget                                                           \n",
       "< $585                           83.8                 83.99          90.93   \n",
       "$585-615                        83.84                 84.04          91.68   \n",
       "$615-645                        83.42                 83.85          90.21   \n",
       "$645-675                        77.29                 81.18          64.75   \n",
       "\n",
       "                   % Passing Reading % Overall Passing Rate  \n",
       "Per student budget                                           \n",
       "< $585                         93.86                  92.09  \n",
       "$585-615                       92.62                  91.94  \n",
       "$615-645                       93.39                  91.56  \n",
       "$645-675                       78.81                  71.47  "
      ]
     },
     "execution_count": 47,
     "metadata": {},
     "output_type": "execute_result"
    }
   ],
   "source": [
    "score_by_school_spending=x.groupby('Per student budget')\n",
    "score_by_school_spend=score_by_school_spending.max()\n",
    "organized_score_by_school_spending=score_by_school_spend[[\"Average Math Score\",\"Average Reading Score\",\"% Passing Math\",\"% Passing Reading\",\"% Overall Passing Rate\"]]\n",
    "organized_score_by_school_spending"
   ]
  },
  {
   "cell_type": "code",
   "execution_count": 48,
   "metadata": {},
   "outputs": [],
   "source": [
    "###################################### Scores by School Size using bins #################################\n",
    "By_size=pd.DataFrame({\"size\":merge_school_table[\"size\"].unique(),\n",
    "                      \"Average Math Score\":organized_school_summary_df[\"Average Math Score\"],\n",
    "                      \"Average Reading Score\":organized_school_summary_df[\"Average Reading Score\"],\n",
    "                      \"% Passing Math\":organized_school_summary_df[\"% Passing Math\"],\n",
    "                    \"% Passing Reading\":organized_school_summary_df[\"% Passing Reading\"],\n",
    "                     \"% Overall Passing Rate\":organized_school_summary_df[\"% Overall Passing Rate\"]})\n",
    "By_size=By_size[[\"size\",\"Average Math Score\",\"Average Reading Score\",\"% Passing Math\",\"% Passing Reading\",\"% Overall Passing Rate\"]]\n",
    "#By_size"
   ]
  },
  {
   "cell_type": "code",
   "execution_count": 49,
   "metadata": {
    "collapsed": true
   },
   "outputs": [],
   "source": [
    "#Create 4 bins\n",
    "bins=[0,1000,2000,5000]\n",
    "#Create names for the 4 bins\n",
    "group_names=['Small(<1000)','Medium(1000-2000)','Large(2000-5000)']"
   ]
  },
  {
   "cell_type": "code",
   "execution_count": 50,
   "metadata": {},
   "outputs": [
    {
     "data": {
      "text/html": [
       "<div>\n",
       "<style>\n",
       "    .dataframe thead tr:only-child th {\n",
       "        text-align: right;\n",
       "    }\n",
       "\n",
       "    .dataframe thead th {\n",
       "        text-align: left;\n",
       "    }\n",
       "\n",
       "    .dataframe tbody tr th {\n",
       "        vertical-align: top;\n",
       "    }\n",
       "</style>\n",
       "<table border=\"1\" class=\"dataframe\">\n",
       "  <thead>\n",
       "    <tr style=\"text-align: right;\">\n",
       "      <th></th>\n",
       "      <th>Average Math Score</th>\n",
       "      <th>Average Reading Score</th>\n",
       "      <th>% Passing Math</th>\n",
       "      <th>% Passing Reading</th>\n",
       "      <th>% Overall Passing Rate</th>\n",
       "    </tr>\n",
       "    <tr>\n",
       "      <th>size</th>\n",
       "      <th></th>\n",
       "      <th></th>\n",
       "      <th></th>\n",
       "      <th></th>\n",
       "      <th></th>\n",
       "    </tr>\n",
       "  </thead>\n",
       "  <tbody>\n",
       "    <tr>\n",
       "      <th>Small(&lt;1000)</th>\n",
       "      <td>83.84</td>\n",
       "      <td>84.04</td>\n",
       "      <td>91.68</td>\n",
       "      <td>92.2</td>\n",
       "      <td>91.94</td>\n",
       "    </tr>\n",
       "    <tr>\n",
       "      <th>Medium(1000-2000)</th>\n",
       "      <td>83.8</td>\n",
       "      <td>83.95</td>\n",
       "      <td>90.63</td>\n",
       "      <td>93.44</td>\n",
       "      <td>91.86</td>\n",
       "    </tr>\n",
       "    <tr>\n",
       "      <th>Large(2000-5000)</th>\n",
       "      <td>83.42</td>\n",
       "      <td>83.99</td>\n",
       "      <td>90.93</td>\n",
       "      <td>93.86</td>\n",
       "      <td>92.09</td>\n",
       "    </tr>\n",
       "  </tbody>\n",
       "</table>\n",
       "</div>"
      ],
      "text/plain": [
       "                  Average Math Score Average Reading Score % Passing Math  \\\n",
       "size                                                                        \n",
       "Small(<1000)                   83.84                 84.04          91.68   \n",
       "Medium(1000-2000)               83.8                 83.95          90.63   \n",
       "Large(2000-5000)               83.42                 83.99          90.93   \n",
       "\n",
       "                  % Passing Reading % Overall Passing Rate  \n",
       "size                                                        \n",
       "Small(<1000)                   92.2                  91.94  \n",
       "Medium(1000-2000)             93.44                  91.86  \n",
       "Large(2000-5000)              93.86                  92.09  "
      ]
     },
     "execution_count": 50,
     "metadata": {},
     "output_type": "execute_result"
    }
   ],
   "source": [
    "# Cut the By_size dataframe and place the size into bins\n",
    "By_size[\"size\"] = pd.cut(By_size[\"size\"],bins, labels=group_names)\n",
    "By_school_size=By_size.groupby('size')\n",
    "By_school_size=By_school_size.max()\n",
    "By_school_size=By_school_size[[\"Average Math Score\",\"Average Reading Score\",\"% Passing Math\",\"% Passing Reading\",\"% Overall Passing Rate\"]]\n",
    "By_school_size"
   ]
  },
  {
   "cell_type": "code",
   "execution_count": 51,
   "metadata": {},
   "outputs": [],
   "source": [
    "###################################### Scores by School Type using bins #################################\n",
    "By_type=pd.DataFrame({\"School type\":organized_school_summary_df[\"School Type\"],\n",
    "                      \"Average Math Score\":organized_school_summary_df[\"Average Math Score\"],\n",
    "                      \"Average Reading Score\":organized_school_summary_df[\"Average Reading Score\"],\n",
    "                      \"% Passing Math\":organized_school_summary_df[\"% Passing Math\"],\n",
    "                    \"% Passing Reading\":organized_school_summary_df[\"% Passing Reading\"],\n",
    "                     \"% Overall Passing Rate\":organized_school_summary_df[\"% Overall Passing Rate\"]})\n",
    "                    \n",
    "By_type=By_type[[\"School type\",\"Average Math Score\",\"Average Reading Score\",\"% Passing Math\",\"% Passing Reading\",\"% Overall Passing Rate\"]]\n",
    "#By_type"
   ]
  },
  {
   "cell_type": "code",
   "execution_count": 52,
   "metadata": {
    "scrolled": true
   },
   "outputs": [
    {
     "data": {
      "text/html": [
       "<div>\n",
       "<style>\n",
       "    .dataframe thead tr:only-child th {\n",
       "        text-align: right;\n",
       "    }\n",
       "\n",
       "    .dataframe thead th {\n",
       "        text-align: left;\n",
       "    }\n",
       "\n",
       "    .dataframe tbody tr th {\n",
       "        vertical-align: top;\n",
       "    }\n",
       "</style>\n",
       "<table border=\"1\" class=\"dataframe\">\n",
       "  <thead>\n",
       "    <tr style=\"text-align: right;\">\n",
       "      <th></th>\n",
       "      <th>Average Math Score</th>\n",
       "      <th>Average Reading Score</th>\n",
       "      <th>% Passing Math</th>\n",
       "      <th>% Passing Reading</th>\n",
       "      <th>% Overall Passing Rate</th>\n",
       "    </tr>\n",
       "    <tr>\n",
       "      <th>School type</th>\n",
       "      <th></th>\n",
       "      <th></th>\n",
       "      <th></th>\n",
       "      <th></th>\n",
       "      <th></th>\n",
       "    </tr>\n",
       "  </thead>\n",
       "  <tbody>\n",
       "    <tr>\n",
       "      <th>Charter</th>\n",
       "      <td>83.84</td>\n",
       "      <td>84.04</td>\n",
       "      <td>91.68</td>\n",
       "      <td>93.86</td>\n",
       "      <td>92.09</td>\n",
       "    </tr>\n",
       "    <tr>\n",
       "      <th>District</th>\n",
       "      <td>77.29</td>\n",
       "      <td>81.18</td>\n",
       "      <td>65.75</td>\n",
       "      <td>79.3</td>\n",
       "      <td>71.97</td>\n",
       "    </tr>\n",
       "  </tbody>\n",
       "</table>\n",
       "</div>"
      ],
      "text/plain": [
       "            Average Math Score Average Reading Score % Passing Math  \\\n",
       "School type                                                           \n",
       "Charter                  83.84                 84.04          91.68   \n",
       "District                 77.29                 81.18          65.75   \n",
       "\n",
       "            % Passing Reading % Overall Passing Rate  \n",
       "School type                                           \n",
       "Charter                 93.86                  92.09  \n",
       "District                 79.3                  71.97  "
      ]
     },
     "execution_count": 52,
     "metadata": {},
     "output_type": "execute_result"
    }
   ],
   "source": [
    "By_school_type=By_type.groupby('School type')\n",
    "By_school_type=By_school_type.max()\n",
    "By_school_type=By_school_type[[\"Average Math Score\",\"Average Reading Score\",\"% Passing Math\",\"% Passing Reading\",\"% Overall Passing Rate\"]]\n",
    "By_school_type"
   ]
  },
  {
   "cell_type": "code",
   "execution_count": null,
   "metadata": {
    "collapsed": true
   },
   "outputs": [],
   "source": []
  }
 ],
 "metadata": {
  "kernelspec": {
   "display_name": "Python 3",
   "language": "python",
   "name": "python3"
  },
  "language_info": {
   "codemirror_mode": {
    "name": "ipython",
    "version": 3
   },
   "file_extension": ".py",
   "mimetype": "text/x-python",
   "name": "python",
   "nbconvert_exporter": "python",
   "pygments_lexer": "ipython3",
   "version": "3.6.3"
  }
 },
 "nbformat": 4,
 "nbformat_minor": 2
}
